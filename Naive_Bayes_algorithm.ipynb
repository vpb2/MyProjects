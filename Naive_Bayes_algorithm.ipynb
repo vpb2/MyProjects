{
 "cells": [
  {
   "cell_type": "markdown",
   "metadata": {},
   "source": [
    "# Naive Bayes"
   ]
  },
  {
   "cell_type": "markdown",
   "metadata": {},
   "source": [
    "## Gender prediction based on names (US names only)"
   ]
  },
  {
   "cell_type": "code",
   "execution_count": 82,
   "metadata": {},
   "outputs": [],
   "source": [
    "import os\n",
    "import io\n",
    "import numpy as np\n",
    "import pandas as pd\n",
    "from pandas import DataFrame\n",
    "from sklearn.naive_bayes import MultinomialNB\n",
    "from sklearn.feature_extraction.text import CountVectorizer"
   ]
  },
  {
   "cell_type": "code",
   "execution_count": 83,
   "metadata": {},
   "outputs": [
    {
     "name": "stdout",
     "output_type": "stream",
     "text": [
      "<class 'pandas.core.frame.DataFrame'>\n",
      "RangeIndex: 13962 entries, 0 to 13961\n",
      "Data columns (total 6 columns):\n",
      "BRITH_YEAR    13962 non-null int64\n",
      "GENDER        13962 non-null object\n",
      "ETHNICTY      13962 non-null object\n",
      "NAME          13962 non-null object\n",
      "COUNT         13962 non-null int64\n",
      "RANK          13962 non-null int64\n",
      "dtypes: int64(3), object(3)\n",
      "memory usage: 654.5+ KB\n"
     ]
    },
    {
     "data": {
      "text/plain": [
       "(13962, 6)"
      ]
     },
     "execution_count": 83,
     "metadata": {},
     "output_type": "execute_result"
    }
   ],
   "source": [
    "data = pd.read_csv(\"/Users/vpb/Documents/Datasets/baby_names.csv\")\n",
    "data.info()\n",
    "data.shape"
   ]
  },
  {
   "cell_type": "code",
   "execution_count": 84,
   "metadata": {},
   "outputs": [
    {
     "data": {
      "text/plain": [
       "Index(['BRITH_YEAR', 'GENDER', 'ETHNICTY', 'NAME', 'COUNT', 'RANK'], dtype='object')"
      ]
     },
     "execution_count": 84,
     "metadata": {},
     "output_type": "execute_result"
    }
   ],
   "source": [
    "data.columns"
   ]
  },
  {
   "cell_type": "code",
   "execution_count": 85,
   "metadata": {},
   "outputs": [
    {
     "data": {
      "text/plain": [
       "MultinomialNB(alpha=1.0, class_prior=None, fit_prior=True)"
      ]
     },
     "execution_count": 85,
     "metadata": {},
     "output_type": "execute_result"
    }
   ],
   "source": [
    "vectorizer = CountVectorizer()\n",
    "counts = vectorizer.fit_transform(data['NAME'].values)\n",
    "targets = data['GENDER'].values\n",
    "classifier = MultinomialNB()\n",
    "classifier.fit(counts,targets)"
   ]
  },
  {
   "cell_type": "code",
   "execution_count": 87,
   "metadata": {},
   "outputs": [
    {
     "name": "stdout",
     "output_type": "stream",
     "text": [
      "Grace is a FEMALE \n",
      "\n",
      "Jill is a FEMALE \n",
      "\n",
      "Kai is a MALE \n",
      "\n",
      "Mary is a FEMALE \n",
      "\n",
      "Kendalyn is a FEMALE \n",
      "\n",
      "Nathan is a MALE \n",
      "\n",
      "Sarah is a FEMALE \n",
      "\n",
      "Carson is a MALE \n",
      "\n"
     ]
    }
   ],
   "source": [
    "examples = ['Grace','Jill','Kai','Mary','Kendalyn','Nathan','Sarah', 'Carson']\n",
    "example_counts = vectorizer.transform(examples)\n",
    "\n",
    "predictions = classifier.predict(example_counts)\n",
    "\n",
    "for i in range(len(examples)):\n",
    "    print(examples[i], 'is a', predictions[i], '\\n')"
   ]
  }
 ],
 "metadata": {
  "kernelspec": {
   "display_name": "Python 3",
   "language": "python",
   "name": "python3"
  },
  "language_info": {
   "codemirror_mode": {
    "name": "ipython",
    "version": 3
   },
   "file_extension": ".py",
   "mimetype": "text/x-python",
   "name": "python",
   "nbconvert_exporter": "python",
   "pygments_lexer": "ipython3",
   "version": "3.7.1"
  }
 },
 "nbformat": 4,
 "nbformat_minor": 2
}
