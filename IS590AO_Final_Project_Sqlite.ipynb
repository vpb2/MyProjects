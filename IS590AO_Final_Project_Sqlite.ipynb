{
 "cells": [
  {
   "cell_type": "markdown",
   "metadata": {},
   "source": [
    "## Relational Database Schema using SQLite \n",
    "Authors -\n",
    "\n",
    "    Srijith Srinath\n",
    "    Vinu Prasad Bhambore"
   ]
  },
  {
   "cell_type": "code",
   "execution_count": 1,
   "metadata": {},
   "outputs": [],
   "source": [
    "#Importing packages\n",
    "\n",
    "import sqlite3\n",
    "import csv\n",
    "import pandas as pd"
   ]
  },
  {
   "cell_type": "code",
   "execution_count": 2,
   "metadata": {},
   "outputs": [],
   "source": [
    "#Establishing connection to the database\n",
    "connection = sqlite3.connect('Shooting.db') #Creating the database (Or it will connect if it already exists)\n",
    "cursor = connection.cursor() #Creating the cursor to access the database"
   ]
  },
  {
   "cell_type": "code",
   "execution_count": 3,
   "metadata": {},
   "outputs": [
    {
     "name": "stdout",
     "output_type": "stream",
     "text": [
      "The shape of the dataframe is:   (12467, 13)\n"
     ]
    }
   ],
   "source": [
    "df = pd.read_csv(\"zomato_clean_openrefine.csv\", encoding = \"ISO-8859-1\") #Using pandas to read csv file into a dataframe\n",
    "print(\"The shape of the dataframe is:  \", df.shape)"
   ]
  },
  {
   "cell_type": "code",
   "execution_count": 4,
   "metadata": {},
   "outputs": [],
   "source": [
    "#Stripping whitespace from headers and converting title case to lower case\n",
    "df.columns = df.columns.str.strip().str.lower().str.replace(' ', '_').str.replace('(', '').str.replace(')', '')"
   ]
  },
  {
   "cell_type": "code",
   "execution_count": 5,
   "metadata": {},
   "outputs": [],
   "source": [
    "#### NOTE: Only run this block for thr first time while running this program. \n",
    "####    Running it multiple times will throw an error saying the table already exists\n",
    "\n",
    "#Adding data into database\n",
    "#df.to_sql(\"Shooting_table\", connection) #Creating the table using the dataframe"
   ]
  },
  {
   "cell_type": "code",
   "execution_count": 6,
   "metadata": {},
   "outputs": [
    {
     "name": "stdout",
     "output_type": "stream",
     "text": [
      "[('Shooting_table',)]\n"
     ]
    }
   ],
   "source": [
    "#Listing all tables in the database\n",
    "cursor.execute(\"SELECT name FROM sqlite_master WHERE type='table';\")\n",
    "print(cursor.fetchall())"
   ]
  },
  {
   "cell_type": "code",
   "execution_count": 7,
   "metadata": {},
   "outputs": [
    {
     "name": "stdout",
     "output_type": "stream",
     "text": [
      "(0, 'index', 'INTEGER', 0, None, 0)\n",
      "(1, 'name', 'TEXT', 0, None, 0)\n",
      "(2, 'address', 'TEXT', 0, None, 0)\n",
      "(3, 'online_order', 'TEXT', 0, None, 0)\n",
      "(4, 'book_table', 'TEXT', 0, None, 0)\n",
      "(5, 'rate', 'TEXT', 0, None, 0)\n",
      "(6, 'votes', 'INTEGER', 0, None, 0)\n",
      "(7, 'phone', 'TEXT', 0, None, 0)\n",
      "(8, 'location', 'TEXT', 0, None, 0)\n",
      "(9, 'rest_type', 'TEXT', 0, None, 0)\n",
      "(10, 'dish_liked', 'TEXT', 0, None, 0)\n",
      "(11, 'cuisines', 'TEXT', 0, None, 0)\n",
      "(12, 'approx_cost(for two people)', 'INTEGER', 0, None, 0)\n",
      "(13, 'reviews_list', 'TEXT', 0, None, 0)\n"
     ]
    }
   ],
   "source": [
    "#Looking at the schema of the table\n",
    "cursor.execute(\"PRAGMA table_info(Shooting_table);\")\n",
    "schema = cursor.fetchall()\n",
    "for items in schema:\n",
    "    print(items)"
   ]
  },
  {
   "cell_type": "markdown",
   "metadata": {},
   "source": [
    "### Integrity Constraints"
   ]
  },
  {
   "cell_type": "markdown",
   "metadata": {},
   "source": [
    "1. There is only one table in the sqlite database, which means that there are no foreign key relationships. There will be no integrity constraints that check for these relationships."
   ]
  },
  {
   "cell_type": "code",
   "execution_count": 8,
   "metadata": {},
   "outputs": [
    {
     "name": "stdout",
     "output_type": "stream",
     "text": [
      "Rows:     12467\n",
      "Columns:  14 (including index column)\n",
      "---------------------------------------------------\n"
     ]
    }
   ],
   "source": [
    "#Looking at the schema of the table\n",
    "cursor.execute(\"SELECT COUNT (*) FROM Shooting_table;\")\n",
    "rows = cursor.fetchall()\n",
    "cursor.execute(\"SELECT COUNT (*) FROM pragma_table_info('Shooting_table');\")\n",
    "columns = cursor.fetchall()\n",
    "print(\"Rows:    \", rows[0][0])\n",
    "print(\"Columns: \", columns[0][0], \"(including index column)\")\n",
    "print(\"---------------------------------------------------\")"
   ]
  },
  {
   "cell_type": "markdown",
   "metadata": {},
   "source": [
    "2. Check uniqueness of the composite key: name,address"
   ]
  },
  {
   "cell_type": "code",
   "execution_count": 9,
   "metadata": {},
   "outputs": [
    {
     "name": "stdout",
     "output_type": "stream",
     "text": [
      "Number of ids:  4 \n",
      "\n",
      "[(\"Am's Cafe Recreate\", 'Shop 2, Vp Road, Opposite To Sandhya Theatre, Madiwala, Btm, Bangalore', '3.3', 2), ('Cupcake Bliss', '199, Second Floor, C Cross, Koramangala 7th Block, Bangalore', 'MISSING', 2), ('Delish Chinese Fast Food', '4th Cross, Cmr Law Collage, Ombr Layout, Banaswadi, Bangalore', '3.2', 2), ('Good Meals', '#325, Ground Floor, 6th Main Road, Hal 2nd Stage, Indiranagar, Bangalore', 'MISSING', 2)]\n",
      "---------------------------------------------------\n"
     ]
    }
   ],
   "source": [
    "cursor.execute(\"SELECT name, address, rate, COUNT(*) AS x FROM Shooting_table GROUP BY name, address, rate HAVING x > 1\")\n",
    "distinct_ids = cursor.fetchall()\n",
    "print(\"Number of ids: \",len(distinct_ids),\"\\n\")\n",
    "print(distinct_ids)\n",
    "print(\"---------------------------------------------------\")"
   ]
  },
  {
   "cell_type": "markdown",
   "metadata": {},
   "source": [
    "3. Checking if the ratings are between 0 and 5"
   ]
  },
  {
   "cell_type": "code",
   "execution_count": 10,
   "metadata": {},
   "outputs": [
    {
     "name": "stdout",
     "output_type": "stream",
     "text": [
      "Invalid ratings count:  0\n"
     ]
    }
   ],
   "source": [
    "cursor.execute(\"SELECT COUNT(*) FROM Shooting_table WHERE rate < '0' and rate > '5';\")\n",
    "ratings = cursor.fetchall()\n",
    "print(\"Invalid ratings count: \", ratings[0][0])"
   ]
  },
  {
   "cell_type": "markdown",
   "metadata": {},
   "source": [
    "4. Checking if number of votes for any restaurant are negative"
   ]
  },
  {
   "cell_type": "code",
   "execution_count": 11,
   "metadata": {},
   "outputs": [
    {
     "name": "stdout",
     "output_type": "stream",
     "text": [
      "Resturants with negative votes :  0\n"
     ]
    }
   ],
   "source": [
    "cursor.execute(\"SELECT COUNT(*) FROM Shooting_table WHERE votes < 0;\")\n",
    "negative_votes = cursor.fetchall()\n",
    "print(\"Resturants with negative votes : \", negative_votes[0][0])"
   ]
  },
  {
   "cell_type": "markdown",
   "metadata": {},
   "source": [
    "5. Checking of the approx amount for two is negative for some restaurant"
   ]
  },
  {
   "cell_type": "code",
   "execution_count": 12,
   "metadata": {},
   "outputs": [
    {
     "name": "stdout",
     "output_type": "stream",
     "text": [
      "Restuarants with negative amount :  0\n"
     ]
    }
   ],
   "source": [
    "cursor.execute(\"SELECT COUNT(*) FROM Shooting_table WHERE \\\"approx_cost(for two people)\\\" < 0 and \\\"approx_cost(for two people)\\\" != -99;\")\n",
    "zero_cost = cursor.fetchall()\n",
    "print(\"Restuarants with negative amount : \", zero_cost[0][0])"
   ]
  },
  {
   "cell_type": "code",
   "execution_count": 13,
   "metadata": {},
   "outputs": [],
   "source": [
    "connection.close() #Closing the connection to the database"
   ]
  }
 ],
 "metadata": {
  "kernelspec": {
   "display_name": "Python 3",
   "language": "python",
   "name": "python3"
  },
  "language_info": {
   "codemirror_mode": {
    "name": "ipython",
    "version": 3
   },
   "file_extension": ".py",
   "mimetype": "text/x-python",
   "name": "python",
   "nbconvert_exporter": "python",
   "pygments_lexer": "ipython3",
   "version": "3.7.2"
  }
 },
 "nbformat": 4,
 "nbformat_minor": 2
}
